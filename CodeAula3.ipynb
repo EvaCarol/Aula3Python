{
 "cells": [
  {
   "cell_type": "code",
   "execution_count": null,
   "metadata": {},
   "outputs": [],
   "source": [
    "\"\"\"num = int(input(\"Informe um número:\"))\n",
    "print(\"Seu número escolhido foi: \", num)\n",
    "\n",
    "\n",
    "num1 = int(input(\"Informe um número:\"))\n",
    "num2 = int(input(\"Informe outro número:\"))\n",
    "print(\"A soma dos seu número é: \", (num1 + num2))\n",
    "\n",
    "nota1 = float(input(\"Nota AV1:\"))\n",
    "nota2 = float(input(\"Nota AV2:\"))\n",
    "nota3 = float(input(\"Nota AV3:\"))\n",
    "print(\"A média das suas notas é: \", (nota1 + nota2 + nota3)/ 3)\n",
    "\n",
    "sal = float(input(\"Quanto você ganha por hora?\"))\n",
    "hor = float(input(\"Quantas horas trabalhadas por semana?\"))\n",
    "print(\"Seu salário mensal é: \", (hor * 4)* sal)\n",
    "\"\"\"\n",
    "# peso permitido 50kg multa 4,00 kg excedente (informar quantos kg passou e quanto vai pagar)\n",
    "# peguei if e else usado na aula anterior\n",
    "\n",
    "peso = float(input(\"Quantos kg tem esse peixe? \")) \n",
    "excesso = peso - 50\n",
    "if (peso > 50): \n",
    "    print(\"Peso excedente de \", excesso, \"Kg\")\n",
    "    print(\"multa de: \", excesso * 4, \"Reais\")\n",
    "else:\n",
    "    print(\"Peso permitido!\")\n",
    "    "
   ]
  }
 ],
 "metadata": {
  "kernelspec": {
   "display_name": ".venv",
   "language": "python",
   "name": "python3"
  },
  "language_info": {
   "codemirror_mode": {
    "name": "ipython",
    "version": 3
   },
   "file_extension": ".py",
   "mimetype": "text/x-python",
   "name": "python",
   "nbconvert_exporter": "python",
   "pygments_lexer": "ipython3",
   "version": "3.11.9"
  }
 },
 "nbformat": 4,
 "nbformat_minor": 2
}
